{
 "cells": [
  {
   "cell_type": "code",
   "execution_count": null,
   "id": "817adc6f-33ca-4060-b5de-932c803eb926",
   "metadata": {
    "collapsed": true,
    "jupyter": {
     "outputs_hidden": true
    },
    "tags": []
   },
   "outputs": [],
   "source": [
    "USER_FLAG = \"--user\"\n",
    "!pip3 install {USER_FLAG} kfp==1.8.9 google-cloud-pipeline-components\n",
    "import os\n",
    "if not os.getenv(\"IS_TESTING\"):\n",
    "    # Automatically restart kernel after installs\n",
    "    import IPython\n",
    "    app = IPython.Application.instance()\n",
    "    app.kernel.do_shutdown(True)\n",
    "    \n"
   ]
  },
  {
   "cell_type": "code",
   "execution_count": 3,
   "id": "cca70e6e-f2a7-4e13-bc79-8ade13b52544",
   "metadata": {
    "collapsed": true,
    "jupyter": {
     "outputs_hidden": true
    }
   },
   "outputs": [
    {
     "name": "stdout",
     "output_type": "stream",
     "text": [
      "KFP SDK version: 1.8.9\n"
     ]
    }
   ],
   "source": [
    "!python3 -c \"import kfp; print('KFP SDK version: {}'.format(kfp.__version__))\""
   ]
  },
  {
   "cell_type": "code",
   "execution_count": 3,
   "id": "58af378b-12e4-4e30-9f36-975c0dcc26b7",
   "metadata": {
    "collapsed": true,
    "jupyter": {
     "outputs_hidden": true
    }
   },
   "outputs": [],
   "source": [
    "from typing import List\n",
    "\n",
    "#from kfp import client\n",
    "from kfp.v2 import dsl\n",
    "from kfp.v2.dsl import Dataset\n",
    "from kfp.v2.dsl import Input\n",
    "from kfp.v2.dsl import Model\n",
    "from kfp.v2.dsl import Output\n"
   ]
  },
  {
   "cell_type": "code",
   "execution_count": 4,
   "id": "e80a167d-86ab-4166-9990-2b7aad298248",
   "metadata": {
    "collapsed": true,
    "jupyter": {
     "outputs_hidden": true
    }
   },
   "outputs": [],
   "source": [
    "@dsl.component(packages_to_install=['pandas==1.3.5'])\n",
    "def create_dataset(iris_dataset: Output[Dataset]):\n",
    "    import pandas as pd\n",
    "\n",
    "    csv_url = 'https://archive.ics.uci.edu/ml/machine-learning-databases/iris/iris.data'\n",
    "    col_names = [\n",
    "        'Sepal_Length', 'Sepal_Width', 'Petal_Length', 'Petal_Width', 'Labels'\n",
    "    ]\n",
    "    df = pd.read_csv(csv_url, names=col_names)\n",
    "\n",
    "    with open(iris_dataset.path, 'w') as f:\n",
    "        df.to_csv(f)"
   ]
  },
  {
   "cell_type": "code",
   "execution_count": 5,
   "id": "ce12f6ba-2bb9-4dc2-aaff-a02cbd16d312",
   "metadata": {
    "collapsed": true,
    "jupyter": {
     "outputs_hidden": true
    }
   },
   "outputs": [],
   "source": [
    "@dsl.component(packages_to_install=['pandas==1.3.5', 'scikit-learn==1.0.2'])\n",
    "def normalize_dataset(\n",
    "    input_iris_dataset: Input[Dataset],\n",
    "    normalized_iris_dataset: Output[Dataset],\n",
    "    standard_scaler: bool,\n",
    "    min_max_scaler: bool,\n",
    "):\n",
    "    if standard_scaler is min_max_scaler:\n",
    "        raise ValueError(\n",
    "            'Exactly one of standard_scaler or min_max_scaler must be True.')\n",
    "\n",
    "    import pandas as pd\n",
    "    from sklearn.preprocessing import MinMaxScaler\n",
    "    from sklearn.preprocessing import StandardScaler\n",
    "\n",
    "    with open(input_iris_dataset.path) as f:\n",
    "        df = pd.read_csv(f)\n",
    "    labels = df.pop('Labels')\n",
    "\n",
    "    if standard_scaler:\n",
    "        scaler = StandardScaler()\n",
    "    if min_max_scaler:\n",
    "        scaler = MinMaxScaler()\n",
    "\n",
    "    df = pd.DataFrame(scaler.fit_transform(df))\n",
    "    df['Labels'] = labels\n",
    "    with open(normalized_iris_dataset.path, 'w') as f:\n",
    "        df.to_csv(f)"
   ]
  },
  {
   "cell_type": "code",
   "execution_count": 6,
   "id": "d90104a1-8755-46dc-92ba-2639e9b0465c",
   "metadata": {
    "collapsed": true,
    "jupyter": {
     "outputs_hidden": true
    }
   },
   "outputs": [],
   "source": [
    "@dsl.component(packages_to_install=['pandas==1.3.5', 'scikit-learn==1.0.2'])\n",
    "def train_model(\n",
    "    normalized_iris_dataset: Input[Dataset],\n",
    "    model: Output[Model],\n",
    "    n_neighbors: int,\n",
    "):\n",
    "    import pickle\n",
    "\n",
    "    import pandas as pd\n",
    "    from sklearn.model_selection import train_test_split\n",
    "    from sklearn.neighbors import KNeighborsClassifier\n",
    "\n",
    "    with open(normalized_iris_dataset.path) as f:\n",
    "        df = pd.read_csv(f)\n",
    "\n",
    "    y = df.pop('Labels')\n",
    "    X = df\n",
    "\n",
    "    X_train, X_test, y_train, y_test = train_test_split(X, y, random_state=0)\n",
    "\n",
    "    clf = KNeighborsClassifier(n_neighbors=n_neighbors)\n",
    "    clf.fit(X_train, y_train)\n",
    "    with open(model.path, 'wb') as f:\n",
    "        pickle.dump(clf, f)"
   ]
  },
  {
   "cell_type": "code",
   "execution_count": 7,
   "id": "23b1092c-f739-41be-8232-34c38b1ef5db",
   "metadata": {
    "collapsed": true,
    "jupyter": {
     "outputs_hidden": true
    }
   },
   "outputs": [],
   "source": [
    "@dsl.pipeline(name='iris-training-pipeline')\n",
    "def my_pipeline(\n",
    "    standard_scaler: bool,\n",
    "    min_max_scaler: bool,\n",
    "    neighbors: List[int],\n",
    "):\n",
    "    create_dataset_task = create_dataset()\n",
    "\n",
    "    normalize_dataset_task = normalize_dataset(\n",
    "        input_iris_dataset=create_dataset_task.outputs['iris_dataset'],\n",
    "        standard_scaler=True,\n",
    "        min_max_scaler=False)\n",
    "\n",
    "    with dsl.ParallelFor(neighbors) as n_neighbors:\n",
    "        train_model(\n",
    "            normalized_iris_dataset=normalize_dataset_task\n",
    "            .outputs['normalized_iris_dataset'],\n",
    "            n_neighbors=n_neighbors)"
   ]
  },
  {
   "cell_type": "code",
   "execution_count": 10,
   "id": "eeb96aba-12f7-465b-8f3b-e3a2afbab870",
   "metadata": {
    "collapsed": true,
    "jupyter": {
     "outputs_hidden": true
    }
   },
   "outputs": [
    {
     "name": "stderr",
     "output_type": "stream",
     "text": [
      "/home/jupyter/.local/lib/python3.7/site-packages/kfp/v2/compiler/compiler.py:1266: FutureWarning: APIs imported from the v1 namespace (e.g. kfp.dsl, kfp.components, etc) will not be supported by the v2 compiler since v2.0.0\n",
      "  category=FutureWarning,\n"
     ]
    }
   ],
   "source": [
    "from kfp.v2 import compiler\n",
    "compiler.Compiler().compile(\n",
    "    pipeline_func=my_pipeline, package_path=\"iris_training_pipeline.json\"\n",
    ")"
   ]
  },
  {
   "cell_type": "code",
   "execution_count": 10,
   "id": "a62e1eab-435a-4d2d-b253-e7bccdd8c143",
   "metadata": {
    "collapsed": true,
    "jupyter": {
     "outputs_hidden": true
    }
   },
   "outputs": [
    {
     "name": "stdout",
     "output_type": "stream",
     "text": [
      "Creating PipelineJob\n",
      "PipelineJob created. Resource name: projects/968232093519/locations/us-central1/pipelineJobs/iris-training-pipeline-20221222175914\n",
      "To use this PipelineJob in another session:\n",
      "pipeline_job = aiplatform.PipelineJob.get('projects/968232093519/locations/us-central1/pipelineJobs/iris-training-pipeline-20221222175914')\n",
      "View Pipeline Job:\n",
      "https://console.cloud.google.com/vertex-ai/locations/us-central1/pipelines/runs/iris-training-pipeline-20221222175914?project=968232093519\n"
     ]
    }
   ],
   "source": [
    "import google.cloud.aiplatform as aip\n",
    "\n",
    "# Before initializing, make sure to set the GOOGLE_APPLICATION_CREDENTIALS\n",
    "# environment variable to the file path of your service account.\n",
    "aip.init(\n",
    "    project=\"jkwng-kfp-dev-4c40\",\n",
    "    location=\"us-central1\",\n",
    ")\n",
    "\n",
    "# Prepare the pipeline job\n",
    "job = aip.PipelineJob(\n",
    "    display_name=\"iris_training_pipeline\",\n",
    "    template_path=\"iris_training_pipeline.json\",\n",
    "    project=\"jkwng-kfp-dev-4c40\",\n",
    "    parameter_values={\n",
    "        'min_max_scaler': True,\n",
    "        'standard_scaler': False,\n",
    "        'neighbors': [3, 6, 9]\n",
    "    }\n",
    ")\n",
    "\n",
    "job.submit()"
   ]
  },
  {
   "cell_type": "code",
   "execution_count": null,
   "id": "74003867-d3af-4b7f-b825-a5435ce60c42",
   "metadata": {
    "collapsed": true,
    "jupyter": {
     "outputs_hidden": true
    }
   },
   "outputs": [],
   "source": []
  },
  {
   "cell_type": "code",
   "execution_count": null,
   "id": "fbb9bef0-9904-4a76-8e48-fd003b7e78f7",
   "metadata": {
    "collapsed": true,
    "jupyter": {
     "outputs_hidden": true
    }
   },
   "outputs": [],
   "source": []
  }
 ],
 "metadata": {
  "environment": {
   "kernel": "python3",
   "name": "tf2-gpu.2-8.m102",
   "type": "gcloud",
   "uri": "gcr.io/deeplearning-platform-release/tf2-gpu.2-8:m102"
  },
  "kernelspec": {
   "display_name": "Python 3.9.2 64-bit",
   "language": "python",
   "name": "python3"
  },
  "language_info": {
   "codemirror_mode": {
    "name": "ipython",
    "version": 3
   },
   "file_extension": ".py",
   "mimetype": "text/x-python",
   "name": "python",
   "nbconvert_exporter": "python",
   "pygments_lexer": "ipython3",
   "version": "3.9.2"
  },
  "vscode": {
   "interpreter": {
    "hash": "31f2aee4e71d21fbe5cf8b01ff0e069b9275f58929596ceb00d14d90e3e16cd6"
   }
  }
 },
 "nbformat": 4,
 "nbformat_minor": 5
}
